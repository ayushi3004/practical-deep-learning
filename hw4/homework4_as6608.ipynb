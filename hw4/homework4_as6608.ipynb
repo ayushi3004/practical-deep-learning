{
 "cells": [
  {
   "cell_type": "code",
   "execution_count": null,
   "metadata": {
    "id": "vcTeinGd04eN"
   },
   "outputs": [],
   "source": [
    "from __future__ import print_function, division\n",
    "\n",
    "import os\n",
    "import math\n",
    "import time\n",
    "import numpy as np\n",
    "import tensorflow as tf\n",
    "import keras\n",
    "from keras.utils import to_categorical\n",
    "import tensorflow.keras.layers as layers\n",
    "import pandas as pd\n",
    "import matplotlib.pyplot as plt\n",
    "from sklearn.linear_model import LinearRegression\n",
    "from sklearn.ensemble import RandomForestRegressor\n",
    "from sklearn.preprocessing import LabelEncoder\n",
    "from sklearn.preprocessing import OneHotEncoder\n",
    "import numpy as np\n",
    "from sklearn import preprocessing\n",
    "from scipy.optimize import curve_fit \n",
    "import itertools\n",
    "import torch\n",
    "import torch.nn as nn\n",
    "import torch.optim as optim\n",
    "from torch.optim import lr_scheduler\n",
    "import numpy as np\n",
    "import torchvision\n",
    "from torchvision import datasets, models, transforms\n",
    "import matplotlib.pyplot as plt\n",
    "import time\n",
    "import os\n",
    "import copy\n",
    "from sklearn.linear_model import LogisticRegression"
   ]
  },
  {
   "cell_type": "code",
   "execution_count": null,
   "metadata": {
    "colab": {
     "base_uri": "https://localhost:8080/"
    },
    "id": "8NcZ4fvlFpa9",
    "outputId": "80c2ef09-96bd-48af-f1c8-040441616fcc"
   },
   "outputs": [
    {
     "name": "stdout",
     "output_type": "stream",
     "text": [
      "Mounted at /content/gdrive\n"
     ]
    }
   ],
   "source": [
    "from google.colab import drive\n",
    "drive.mount('/content/gdrive')"
   ]
  },
  {
   "cell_type": "markdown",
   "metadata": {
    "id": "UpWh9CoFUqvL"
   },
   "source": [
    "### Problem 1"
   ]
  },
  {
   "cell_type": "markdown",
   "metadata": {
    "id": "N42g4RXSAm8q"
   },
   "source": [
    "### 1.1a"
   ]
  },
  {
   "cell_type": "markdown",
   "metadata": {
    "id": "UXWt4VNuVlpN"
   },
   "source": [
    "**Target dataset: Aircraft**"
   ]
  },
  {
   "cell_type": "markdown",
   "metadata": {
    "id": "3ALzVM4I9zaE"
   },
   "source": [
    "*Description*: The data contains images of different kinds of aircrafts and their current state, whether flying or on land."
   ]
  },
  {
   "cell_type": "markdown",
   "metadata": {
    "id": "gSlizeKs5R1q"
   },
   "source": [
    "\n",
    "**Dataset\t|# of classes\t|# of training\tsamples |# of validation\tsamples | # of testing samples**\n",
    "\n",
    "Aircraft  | 100\t        | 3334\t                | 3333\t                  | 3333"
   ]
  },
  {
   "cell_type": "code",
   "execution_count": null,
   "metadata": {
    "id": "3Cz9rpOuLGt9"
   },
   "outputs": [],
   "source": [
    "aircraft_path = \"/content/gdrive/My Drive/pdl-q1/aircraft\""
   ]
  },
  {
   "cell_type": "code",
   "execution_count": null,
   "metadata": {
    "id": "yB_Vqz1WLtq9"
   },
   "outputs": [],
   "source": [
    "data_transforms = {\n",
    "    'train': transforms.Compose([\n",
    "        transforms.RandomResizedCrop(224),\n",
    "        transforms.RandomHorizontalFlip(),\n",
    "        transforms.ToTensor(),\n",
    "        transforms.Normalize([0.485, 0.456, 0.406], [0.229, 0.224, 0.225])\n",
    "    ]),\n",
    "    'val': transforms.Compose([\n",
    "        transforms.Resize(256),\n",
    "        transforms.CenterCrop(224),\n",
    "        transforms.ToTensor(),\n",
    "        transforms.Normalize([0.485, 0.456, 0.406], [0.229, 0.224, 0.225])\n",
    "    ]),\n",
    "}\n",
    "\n",
    "image_datasets = {x: datasets.ImageFolder(os.path.join(aircraft_path, x), data_transforms[x]) for x in ['train', 'val']}\n",
    "\n",
    "dataloaders = {x: torch.utils.data.DataLoader(image_datasets[x], batch_size=4, shuffle=True, num_workers=4) for x in ['train', 'val']}\n",
    "\n",
    "dataset_sizes = {x: len(image_datasets[x]) for x in ['train', 'val']}\n",
    "\n",
    "class_names = image_datasets['train'].classes\n",
    "\n",
    "device = torch.device(\"cuda:0\" if torch.cuda.is_available() else \"cpu\")"
   ]
  },
  {
   "cell_type": "markdown",
   "metadata": {
    "id": "bqQdYkwp8_LD"
   },
   "source": [
    "**Training dataset: Distribution of images per class**"
   ]
  },
  {
   "cell_type": "code",
   "execution_count": null,
   "metadata": {
    "colab": {
     "base_uri": "https://localhost:8080/"
    },
    "id": "cJtfn5Y28que",
    "outputId": "6a5906fa-46e7-4c2a-efab-9ddeac586098"
   },
   "outputs": [
    {
     "data": {
      "text/plain": [
       "Counter({0: 34,\n",
       "         1: 33,\n",
       "         2: 33,\n",
       "         3: 34,\n",
       "         4: 33,\n",
       "         5: 33,\n",
       "         6: 34,\n",
       "         7: 33,\n",
       "         8: 33,\n",
       "         9: 34,\n",
       "         10: 33,\n",
       "         11: 33,\n",
       "         12: 34,\n",
       "         13: 33,\n",
       "         14: 33,\n",
       "         15: 34,\n",
       "         16: 33,\n",
       "         17: 33,\n",
       "         18: 34,\n",
       "         19: 33,\n",
       "         20: 33,\n",
       "         21: 34,\n",
       "         22: 33,\n",
       "         23: 33,\n",
       "         24: 34,\n",
       "         25: 33,\n",
       "         26: 33,\n",
       "         27: 34,\n",
       "         28: 33,\n",
       "         29: 33,\n",
       "         30: 34,\n",
       "         31: 33,\n",
       "         32: 33,\n",
       "         33: 34,\n",
       "         34: 33,\n",
       "         35: 33,\n",
       "         36: 34,\n",
       "         37: 34,\n",
       "         38: 33,\n",
       "         39: 33,\n",
       "         40: 33,\n",
       "         41: 33,\n",
       "         42: 34,\n",
       "         43: 33,\n",
       "         44: 33,\n",
       "         45: 34,\n",
       "         46: 33,\n",
       "         47: 33,\n",
       "         48: 34,\n",
       "         49: 33,\n",
       "         50: 33,\n",
       "         51: 34,\n",
       "         52: 33,\n",
       "         53: 33,\n",
       "         54: 34,\n",
       "         55: 33,\n",
       "         56: 33,\n",
       "         57: 34,\n",
       "         58: 33,\n",
       "         59: 33,\n",
       "         60: 34,\n",
       "         61: 33,\n",
       "         62: 33,\n",
       "         63: 34,\n",
       "         64: 33,\n",
       "         65: 33,\n",
       "         66: 34,\n",
       "         67: 33,\n",
       "         68: 33,\n",
       "         69: 34,\n",
       "         70: 33,\n",
       "         71: 33,\n",
       "         72: 34,\n",
       "         73: 33,\n",
       "         74: 33,\n",
       "         75: 34,\n",
       "         76: 33,\n",
       "         77: 33,\n",
       "         78: 34,\n",
       "         79: 33,\n",
       "         80: 33,\n",
       "         81: 34,\n",
       "         82: 33,\n",
       "         83: 33,\n",
       "         84: 34,\n",
       "         85: 35,\n",
       "         86: 33,\n",
       "         87: 34,\n",
       "         88: 33,\n",
       "         89: 33,\n",
       "         90: 34,\n",
       "         91: 33,\n",
       "         92: 33,\n",
       "         93: 34,\n",
       "         94: 33,\n",
       "         95: 33,\n",
       "         96: 34,\n",
       "         97: 33,\n",
       "         98: 33,\n",
       "         99: 34})"
      ]
     },
     "execution_count": 24,
     "metadata": {},
     "output_type": "execute_result"
    }
   ],
   "source": [
    "from collections import Counter\n",
    "Counter(image_datasets['train'].targets)"
   ]
  },
  {
   "cell_type": "markdown",
   "metadata": {
    "id": "mbCll2u19FQH"
   },
   "source": [
    "**Validation dataset: Distribution of images per class**"
   ]
  },
  {
   "cell_type": "code",
   "execution_count": null,
   "metadata": {
    "colab": {
     "base_uri": "https://localhost:8080/"
    },
    "id": "OBwvdq4F9Gj8",
    "outputId": "f1d28530-dab6-4794-e44c-95b9a5d94c64"
   },
   "outputs": [
    {
     "data": {
      "text/plain": [
       "Counter({0: 33,\n",
       "         1: 34,\n",
       "         2: 33,\n",
       "         3: 33,\n",
       "         4: 34,\n",
       "         5: 33,\n",
       "         6: 33,\n",
       "         7: 34,\n",
       "         8: 33,\n",
       "         9: 33,\n",
       "         10: 34,\n",
       "         11: 46,\n",
       "         12: 33,\n",
       "         13: 34,\n",
       "         14: 43,\n",
       "         15: 33,\n",
       "         16: 34,\n",
       "         17: 33,\n",
       "         18: 33,\n",
       "         19: 34,\n",
       "         20: 33,\n",
       "         21: 33,\n",
       "         22: 51,\n",
       "         23: 44,\n",
       "         24: 33,\n",
       "         25: 34,\n",
       "         26: 33,\n",
       "         27: 33,\n",
       "         28: 34,\n",
       "         29: 33,\n",
       "         30: 33,\n",
       "         31: 34,\n",
       "         32: 33,\n",
       "         33: 33,\n",
       "         34: 34,\n",
       "         35: 33,\n",
       "         36: 33,\n",
       "         37: 33,\n",
       "         38: 34,\n",
       "         39: 53,\n",
       "         40: 34,\n",
       "         41: 33,\n",
       "         42: 33,\n",
       "         43: 34,\n",
       "         44: 33,\n",
       "         45: 33,\n",
       "         46: 64,\n",
       "         47: 48,\n",
       "         48: 48,\n",
       "         49: 34,\n",
       "         50: 33,\n",
       "         51: 33,\n",
       "         52: 34,\n",
       "         53: 33,\n",
       "         54: 33,\n",
       "         55: 34,\n",
       "         56: 33,\n",
       "         57: 33,\n",
       "         58: 34,\n",
       "         59: 33,\n",
       "         60: 33,\n",
       "         61: 34,\n",
       "         62: 33,\n",
       "         63: 33,\n",
       "         64: 34,\n",
       "         65: 33,\n",
       "         66: 33,\n",
       "         67: 34,\n",
       "         68: 33,\n",
       "         69: 45,\n",
       "         70: 50,\n",
       "         71: 33,\n",
       "         72: 33,\n",
       "         73: 34,\n",
       "         74: 33,\n",
       "         75: 33,\n",
       "         76: 34,\n",
       "         77: 33,\n",
       "         78: 33,\n",
       "         79: 34,\n",
       "         80: 33,\n",
       "         81: 33,\n",
       "         82: 34,\n",
       "         83: 43,\n",
       "         84: 43,\n",
       "         85: 34,\n",
       "         86: 33,\n",
       "         87: 33,\n",
       "         88: 34,\n",
       "         89: 33,\n",
       "         90: 33,\n",
       "         91: 34,\n",
       "         92: 33,\n",
       "         93: 33,\n",
       "         94: 34,\n",
       "         95: 33,\n",
       "         96: 33,\n",
       "         97: 34,\n",
       "         98: 33,\n",
       "         99: 33})"
      ]
     },
     "execution_count": 25,
     "metadata": {},
     "output_type": "execute_result"
    }
   ],
   "source": [
    "Counter(image_datasets['val'].targets)"
   ]
  },
  {
   "cell_type": "code",
   "execution_count": null,
   "metadata": {
    "colab": {
     "base_uri": "https://localhost:8080/",
     "height": 148
    },
    "id": "gLX_dcx3MDrV",
    "outputId": "82b822d8-281c-4fd7-aef7-c72cacd16b0a"
   },
   "outputs": [
    {
     "data": {
      "image/png": "[encoded data removed]",
      "text/plain": [
       "<Figure size 432x288 with 1 Axes>"
      ]
     },
     "metadata": {
      "needs_background": "light"
     },
     "output_type": "display_data"
    }
   ],
   "source": [
    "# Visualize a few images\n",
    "def imshow(inp, title=None):\n",
    "    inp = inp.numpy().transpose((1, 2, 0))\n",
    "    mean = np.array([0.485, 0.456, 0.406])\n",
    "    std = np.array([0.229, 0.224, 0.225])\n",
    "    inp = std * inp + mean\n",
    "    inp = np.clip(inp, 0, 1)\n",
    "    plt.imshow(inp)\n",
    "    if title is not None:\n",
    "        plt.title(title)\n",
    "    plt.pause(0.001)\n",
    "\n",
    "\n",
    "inputs, classes = next(iter(dataloaders['train']))\n",
    "\n",
    "out = torchvision.utils.make_grid(inputs)\n",
    "\n",
    "imshow(out, title=[class_names[x] for x in classes])"
   ]
  },
  {
   "cell_type": "markdown",
   "metadata": {
    "id": "4-Ge7pvMA8HH"
   },
   "source": [
    "### 1.1b"
   ]
  },
  {
   "cell_type": "code",
   "execution_count": null,
   "metadata": {
    "id": "m0mKue5A-6pb"
   },
   "outputs": [],
   "source": [
    "# Following codes run on V100 GPU on GCP. Logs and output files attached."
   ]
  },
  {
   "cell_type": "code",
   "execution_count": null,
   "metadata": {
    "id": "z14DtW4KnUsz"
   },
   "outputs": [],
   "source": [
    "aircraft_path = \"/home/as6608/hw4/q1/aircraft\"\n",
    "\n",
    "data_transforms = {\n",
    "    'train': transforms.Compose([\n",
    "        transforms.RandomResizedCrop(224),\n",
    "        transforms.RandomHorizontalFlip(),\n",
    "        transforms.ToTensor(),\n",
    "        transforms.Normalize([0.485, 0.456, 0.406], [0.229, 0.224, 0.225])\n",
    "    ]),\n",
    "    'val': transforms.Compose([\n",
    "        transforms.Resize(256),\n",
    "        transforms.CenterCrop(224),\n",
    "        transforms.ToTensor(),\n",
    "        transforms.Normalize([0.485, 0.456, 0.406], [0.229, 0.224, 0.225])\n",
    "    ]),\n",
    "}\n",
    "\n",
    "image_datasets = {x: datasets.ImageFolder(os.path.join(aircraft_path, x), data_transforms[x]) for x in ['train']}\n",
    "\n",
    "dataloaders = {x: torch.utils.data.DataLoader(image_datasets[x], batch_size=64, shuffle=True, num_workers=4) for x in ['train']}\n",
    "\n",
    "dataset_sizes = {x: len(image_datasets[x]) for x in ['train']}\n",
    "print(\"Dataset sizes:\", dataset_sizes)\n",
    "\n",
    "class_names = image_datasets['train'].classes\n",
    "\n",
    "device = torch.device(\"cuda:0\" if torch.cuda.is_available() else \"cpu\")\n",
    "\n",
    "def train_model(model, criterion, optimizer, scheduler, num_epochs):\n",
    "    training_logs = []\n",
    "    since = time.time()\n",
    "\n",
    "    best_model_wts = copy.deepcopy(model.state_dict())\n",
    "    best_acc = 0.0\n",
    "\n",
    "    # training_logs = pd.DataFrame(columns=['epoch_num', 'loss', 'acc'])\n",
    "\n",
    "    print(\"training started\")\n",
    "    for epoch in range(num_epochs):\n",
    "        print('Epoch {}/{}'.format(epoch, num_epochs - 1))\n",
    "        print('-' * 10)\n",
    "\n",
    "        # Each epoch has a training and validation phase\n",
    "        for phase in ['train']:\n",
    "            if phase == 'train':\n",
    "                model.train()  # Set model to training mode\n",
    "            else:\n",
    "                model.eval()   # Set model to evaluate mode\n",
    "\n",
    "            running_loss = 0.0\n",
    "            running_corrects = 0\n",
    "\n",
    "            # Iterate over data.\n",
    "            for inputs, labels in dataloaders[phase]:\n",
    "                inputs = inputs.to(device)\n",
    "                labels = labels.to(device)\n",
    "\n",
    "                # zero the parameter gradients\n",
    "                optimizer.zero_grad()\n",
    "\n",
    "                # forward\n",
    "                # track history if only in train\n",
    "                with torch.set_grad_enabled(phase == 'train'):\n",
    "                    outputs = model(inputs)\n",
    "                    _, preds = torch.max(outputs, 1)\n",
    "                    loss = criterion(outputs, labels)\n",
    "\n",
    "                    # backward + optimize only if in training phase\n",
    "                    if phase == 'train':\n",
    "                        loss.backward()\n",
    "                        optimizer.step()\n",
    "\n",
    "                # statistics\n",
    "                running_loss += loss.item() * inputs.size(0)\n",
    "                running_corrects += torch.sum(preds == labels.data)\n",
    "            if phase == 'train':\n",
    "                scheduler.step()\n",
    "\n",
    "\n",
    "            epoch_loss = running_loss / dataset_sizes[phase]\n",
    "            epoch_acc = running_corrects.double() / dataset_sizes[phase]\n",
    "\n",
    "            training_logs.append([epoch, epoch_loss, epoch_acc.item()])\n",
    "\n",
    "            print('{} Loss: {:.4f} Acc: {:.4f}'.format(phase, epoch_loss, epoch_acc))\n",
    "\n",
    "            # deep copy the model\n",
    "            if phase == 'train' and epoch_acc > best_acc:\n",
    "                best_acc = epoch_acc\n",
    "                best_model_wts = copy.deepcopy(model.state_dict())\n",
    "\n",
    "        print()\n",
    "\n",
    "    time_elapsed = time.time() - since\n",
    "    print('Training complete in {:.0f}m {:.0f}s'.format(time_elapsed // 60, time_elapsed % 60))\n",
    "    print('Best val Acc: {:4f}'.format(best_acc))\n",
    "\n",
    "    # load best model weights\n",
    "    model.load_state_dict(best_model_wts)\n",
    "    return model, training_logs\n",
    "\n",
    "model_ft = models.resnet50(pretrained=True)\n",
    "num_ftrs = model_ft.fc.in_features\n",
    "model_ft.fc = nn.Linear(num_ftrs, len(class_names))\n",
    "\n",
    "model_ft = model_ft.to(device)\n",
    "\n",
    "criterion = nn.CrossEntropyLoss()\n",
    "\n",
    "optimizer_ft = optim.SGD(model_ft.parameters(), lr=0.001, momentum=0.9)\n",
    "\n",
    "# Decay LR by a factor of 0.1 every 60 epochs\n",
    "exp_lr_scheduler = lr_scheduler.StepLR(optimizer_ft, step_size=60, gamma=0.1)\n",
    "\n",
    "model_ft, train_logs = train_model(model_ft, criterion, optimizer_ft,exp_lr_scheduler, num_epochs=200)\n",
    "train_logs_df = pd.DataFrame(train_logs, columns =['epoch_num', 'loss', 'acc'])\n",
    "train_logs_df.to_csv(\"/home/as6608/hw4/q1/1.1/train_logs_0.001.csv\", index=False)"
   ]
  },
  {
   "cell_type": "markdown",
   "metadata": {
    "id": "kMhJiFA2BtMf"
   },
   "source": [
    "**Accuracy achieved for decaying learning rate 0.001: 89.9%**"
   ]
  },
  {
   "cell_type": "markdown",
   "metadata": {
    "id": "oNkp_lIMBOvR"
   },
   "source": [
    "### 1.1c"
   ]
  },
  {
   "cell_type": "code",
   "execution_count": null,
   "metadata": {
    "id": "8qfG1DVNBW_a"
   },
   "outputs": [],
   "source": [
    "# lr_rate = 0.01 and lr_rate = 0.1"
   ]
  },
  {
   "cell_type": "code",
   "execution_count": null,
   "metadata": {
    "id": "6OZnmh1YrQ7G"
   },
   "outputs": [],
   "source": [
    "aircraft_path = \"/home/as6608/hw4/q1/aircraft\"\n",
    "\n",
    "data_transforms = {\n",
    "    'train': transforms.Compose([\n",
    "        transforms.RandomResizedCrop(224),\n",
    "        transforms.RandomHorizontalFlip(),\n",
    "        transforms.ToTensor(),\n",
    "        transforms.Normalize([0.485, 0.456, 0.406], [0.229, 0.224, 0.225])\n",
    "    ]),\n",
    "    'val': transforms.Compose([\n",
    "        transforms.Resize(256),\n",
    "        transforms.CenterCrop(224),\n",
    "        transforms.ToTensor(),\n",
    "        transforms.Normalize([0.485, 0.456, 0.406], [0.229, 0.224, 0.225])\n",
    "    ]),\n",
    "}\n",
    "\n",
    "image_datasets = {x: datasets.ImageFolder(os.path.join(aircraft_path, x), data_transforms[x]) for x in ['train']}\n",
    "\n",
    "dataloaders = {x: torch.utils.data.DataLoader(image_datasets[x], batch_size=64, shuffle=True, num_workers=4) for x in ['train']}\n",
    "\n",
    "dataset_sizes = {x: len(image_datasets[x]) for x in ['train']}\n",
    "print(\"Dataset sizes:\", dataset_sizes)\n",
    "\n",
    "class_names = image_datasets['train'].classes\n",
    "\n",
    "device = torch.device(\"cuda:0\" if torch.cuda.is_available() else \"cpu\")\n",
    "\n",
    "def train_model(model, criterion, optimizer, num_epochs=200):\n",
    "    since = time.time()\n",
    "\n",
    "    best_model_wts = copy.deepcopy(model.state_dict())\n",
    "    best_acc = 0.0\n",
    "\n",
    "    train_logs = pd.DataFrame(columns=['epoch_num', 'train_loss', 'train_accuracy'])\n",
    "\n",
    "    print(\"training started\")\n",
    "    for epoch in range(num_epochs):\n",
    "        print('Epoch {}/{}'.format(epoch, num_epochs - 1))\n",
    "        print('-' * 10)\n",
    "\n",
    "        # Each epoch has a training and validation phase\n",
    "        for phase in ['train']:\n",
    "            if phase == 'train':\n",
    "                model.train()  # Set model to training mode\n",
    "            else:\n",
    "                model.eval()   # Set model to evaluate mode\n",
    "\n",
    "            running_loss = 0.0\n",
    "            running_corrects = 0\n",
    "\n",
    "            # Iterate over data.\n",
    "            for inputs, labels in dataloaders[phase]:\n",
    "                inputs = inputs.to(device)\n",
    "                labels = labels.to(device)\n",
    "\n",
    "                # zero the parameter gradients\n",
    "                optimizer.zero_grad()\n",
    "\n",
    "                # forward\n",
    "                # track history if only in train\n",
    "                with torch.set_grad_enabled(phase == 'train'):\n",
    "                    outputs = model(inputs)\n",
    "                    _, preds = torch.max(outputs, 1)\n",
    "                    loss = criterion(outputs, labels)\n",
    "\n",
    "                    # backward + optimize only if in training phase\n",
    "                    if phase == 'train':\n",
    "                        loss.backward()\n",
    "                        optimizer.step()\n",
    "\n",
    "                # statistics\n",
    "                running_loss += loss.item() * inputs.size(0)\n",
    "                running_corrects += torch.sum(preds == labels.data)\n",
    "\n",
    "\n",
    "            epoch_loss = running_loss / dataset_sizes[phase]\n",
    "            epoch_acc = running_corrects.double() / dataset_sizes[phase]\n",
    "\n",
    "            print('{} Loss: {:.4f} Acc: {:.4f}'.format(phase, epoch_loss, epoch_acc))\n",
    "\n",
    "            # deep copy the model\n",
    "            if phase == 'train' and epoch_acc > best_acc:\n",
    "                best_acc = epoch_acc\n",
    "                best_model_wts = copy.deepcopy(model.state_dict())\n",
    "\n",
    "            train_logs.append([epoch, epoch_loss, epoch_acc.item()])\n",
    "\n",
    "        print()\n",
    "\n",
    "    time_elapsed = time.time() - since\n",
    "    print('Training complete in {:.0f}m {:.0f}s'.format(time_elapsed // 60, time_elapsed % 60))\n",
    "    print('Best val Acc: {:4f}'.format(best_acc))\n",
    "\n",
    "    # load best model weights\n",
    "    model.load_state_dict(best_model_wts)\n",
    "    return model, train_logs\n",
    "\n",
    "\n",
    "\n",
    "model_ft = models.resnet50(pretrained=True)\n",
    "num_ftrs = model_ft.fc.in_features\n",
    "# Here the size of each output sample is set to 2.\n",
    "# Alternatively, it can be generalized to nn.Linear(num_ftrs, len(class_names)).\n",
    "model_ft.fc = nn.Linear(num_ftrs, len(class_names))\n",
    "\n",
    "model_ft = model_ft.to(device)\n",
    "\n",
    "criterion = nn.CrossEntropyLoss()\n",
    "\n",
    "# Observe that all parameters are being optimized\n",
    "lr_rate = 0.01\n",
    "print(\"lr:\", lr_rate)\n",
    "optimizer_ft = optim.SGD(model_ft.parameters(), lr=lr_rate, momentum=0.9)\n",
    "\n",
    "model_ft, train_logs = train_model(model_ft, criterion, optimizer_ft, num_epochs=200)\n",
    "\n",
    "train_logs_df = pd.DataFrame(train_logs, columns =['epoch_num', 'loss', 'acc'])\n",
    "train_logs_df.to_csv(f\"/home/as6608/hw4/q1/1.1/train_logs_{lr_rate}.csv\", index=False)"
   ]
  },
  {
   "cell_type": "markdown",
   "metadata": {
    "id": "Xw3SwzRdFLjb"
   },
   "source": [
    "**Accuracy achieved for uniform learning rate 0.01: 94.42%**\n",
    "\n",
    "**Accuracy achieved for uniform learning rate 0.1: 92.17%**"
   ]
  },
  {
   "cell_type": "markdown",
   "metadata": {
    "id": "p5eSoRrWFpJb"
   },
   "source": [
    "Finetuning the base model: From the 3 models, the best accuracy is achieved with learning rate of 0.01 for all layers."
   ]
  },
  {
   "cell_type": "markdown",
   "metadata": {
    "id": "iiu6uySWIBK-"
   },
   "source": [
    "### 1.2a"
   ]
  },
  {
   "cell_type": "code",
   "execution_count": null,
   "metadata": {
    "id": "TSRt6GCZIEzz"
   },
   "outputs": [],
   "source": [
    "# lr_rate = 1, 0.1, 0.01, and 0.001"
   ]
  },
  {
   "cell_type": "code",
   "execution_count": null,
   "metadata": {
    "id": "yeO5dvkQID95"
   },
   "outputs": [],
   "source": [
    "# Data augmentation and normalization for training\n",
    "# Just normalization for validation\n",
    "data_transforms = {\n",
    "    'train': transforms.Compose([\n",
    "        transforms.RandomResizedCrop(224),\n",
    "        transforms.RandomHorizontalFlip(),\n",
    "        transforms.ToTensor(),\n",
    "        transforms.Normalize([0.485, 0.456, 0.406], [0.229, 0.224, 0.225])\n",
    "    ]),\n",
    "    'val': transforms.Compose([\n",
    "        transforms.Resize(256),\n",
    "        transforms.CenterCrop(224),\n",
    "        transforms.ToTensor(),\n",
    "        transforms.Normalize([0.485, 0.456, 0.406], [0.229, 0.224, 0.225])\n",
    "    ]),\n",
    "}\n",
    "\n",
    "data_dir = './aircraft/'\n",
    "image_datasets = {x: datasets.ImageFolder(os.path.join(data_dir, x),\n",
    "                                          data_transforms[x])\n",
    "                  for x in ['train']}\n",
    "print(type(image_datasets))\n",
    "\n",
    "dataloaders = {x: torch.utils.data.DataLoader(image_datasets[x], batch_size=64,\n",
    "                                             shuffle=True, num_workers=1)\n",
    "              for x in ['train']}\n",
    "dataset_sizes = {x: len(image_datasets[x]) for x in ['train']}\n",
    "print(\"Dataset sizes:\", dataset_sizes)\n",
    "\n",
    "class_names = image_datasets['train'].classes\n",
    "\n",
    "device = torch.device(\"cuda:0\" if torch.cuda.is_available() else \"cpu\")\n",
    "\n",
    "def train_model(model, criterion, optimizer, num_epochs=200):\n",
    "    since = time.time()\n",
    "\n",
    "    best_model_wts = copy.deepcopy(model.state_dict())\n",
    "    best_acc = 0.0\n",
    "\n",
    "    train_logs = pd.DataFrame(columns=['epoch_num', 'train_loss', 'train_accuracy'])\n",
    "\n",
    "    for epoch in range(num_epochs):\n",
    "        print('Epoch {}/{}'.format(epoch, num_epochs - 1))\n",
    "        print('-' * 10)\n",
    "\n",
    "        # Each epoch has a training and validation phase\n",
    "        for phase in ['train']:\n",
    "            if phase == 'train':\n",
    "                model.train()  # Set model to training mode\n",
    "            else:\n",
    "                model.eval()   # Set model to evaluate mode\n",
    "\n",
    "            running_loss = 0.0\n",
    "            running_corrects = 0\n",
    "\n",
    "            # Iterate over data.\n",
    "            for inputs, labels in dataloaders[phase]:\n",
    "                inputs = inputs.to(device)\n",
    "                labels = labels.to(device)\n",
    "\n",
    "                # zero the parameter gradients\n",
    "                optimizer.zero_grad()\n",
    "\n",
    "                # forward\n",
    "                # track history if only in train\n",
    "                with torch.set_grad_enabled(phase == 'train'):\n",
    "                    outputs = model(inputs)\n",
    "                    _, preds = torch.max(outputs, 1)\n",
    "                    loss = criterion(outputs, labels)\n",
    "\n",
    "                    # backward + optimize only if in training phase\n",
    "                    if phase == 'train':\n",
    "                        loss.backward()\n",
    "                        optimizer.step()\n",
    "\n",
    "                # statistics\n",
    "                running_loss += loss.item() * inputs.size(0)\n",
    "                running_corrects += torch.sum(preds == labels.data)\n",
    "\n",
    "\n",
    "            epoch_loss = running_loss / dataset_sizes[phase]\n",
    "            epoch_acc = running_corrects.double() / dataset_sizes[phase]\n",
    "\n",
    "            print('{} Loss: {:.4f} Acc: {:.4f}'.format(\n",
    "                phase, epoch_loss, epoch_acc))\n",
    "\n",
    "            # deep copy the model\n",
    "            if phase == 'train' and epoch_acc > best_acc:\n",
    "                best_acc = epoch_acc\n",
    "                best_model_wts = copy.deepcopy(model.state_dict())\n",
    "\n",
    "            train_logs = train_logs.append(pd.Series([epoch, epoch_loss, epoch_acc.item()], \n",
    "                                  index = train_logs.columns), \n",
    "                                  ignore_index=True)\n",
    "\n",
    "        print()\n",
    "\n",
    "    time_elapsed = time.time() - since\n",
    "    print('Training complete in {:.0f}m {:.0f}s'.format(\n",
    "        time_elapsed // 60, time_elapsed % 60))\n",
    "    print('Best val Acc: {:4f}'.format(best_acc))\n",
    "\n",
    "    # load best model weights\n",
    "    model.load_state_dict(best_model_wts)\n",
    "    return model, train_logs\n",
    "\n",
    "\n",
    "\n",
    "model_conv = models.resnet50(pretrained=True)\n",
    "for param in model_conv.parameters():\n",
    "    param.requires_grad = False\n",
    "\n",
    "# Parameters of newly constructed modules have requires_grad=True by default\n",
    "num_ftrs = model_conv.fc.in_features\n",
    "model_conv.fc = nn.Linear(num_ftrs, len(class_names))\n",
    "\n",
    "model_conv = model_conv.to(device)\n",
    "\n",
    "criterion = nn.CrossEntropyLoss()\n",
    "\n",
    "# Observe that only parameters of final layer are being optimized as\n",
    "# opposed to before.\n",
    "lr_rate = 0.01\n",
    "print(\"lr:\", lr_rate)\n",
    "optimizer_conv = optim.SGD(model_conv.fc.parameters(), lr=lr_rate, momentum=0.9)\n",
    "\n",
    "model_conv, train_logs = train_model(model_conv, criterion, optimizer_conv, num_epochs=200)\n",
    "\n",
    "train_logs_df = pd.DataFrame(train_logs, columns =['epoch_num', 'loss', 'acc'])\n",
    "train_logs_df.to_csv(f\"2a_train_logs_{lr_rate}.csv\",index=False)"
   ]
  },
  {
   "cell_type": "markdown",
   "metadata": {
    "id": "aljZr0lsIVXK"
   },
   "source": [
    "**Accuracy achieved for last layer learning rate 0.001: 28.5%**\n",
    "\n",
    "**Accuracy achieved for last layer learning rate 0.01: 39.1%**\n",
    "\n",
    "**Accuracy achieved for last layer learning rate 0.1: 37%**\n",
    "\n",
    "**Accuracy achieved for last layer learning rate 1: 33.2%**"
   ]
  },
  {
   "cell_type": "markdown",
   "metadata": {
    "id": "eP6Ho6E5I31Y"
   },
   "source": [
    "Base model as fixed feature extractor: The best accuracy is achieved with learning rate 0.01."
   ]
  },
  {
   "cell_type": "markdown",
   "metadata": {
    "id": "I-QkLzerc-dP"
   },
   "source": [
    "Stats for all models:"
   ]
  },
  {
   "cell_type": "markdown",
   "metadata": {
    "id": "GmQ72MtTLxAR"
   },
   "source": [
    "1.1b\n",
    "Training complete in 41m 38s\n",
    "Best val Acc: 0.898920\n",
    "\n",
    "1.1c 0.01\n",
    "Training complete in 69m 36s\n",
    "Best val Acc: 0.944211\n",
    "\n",
    "1.1c 0.1\n",
    "Training complete in 69m 36s\n",
    "Best val Acc: 0.921716\n",
    "\n",
    "\n",
    "2a 0.001\n",
    "Training complete in 58m 25s\n",
    "Best val Acc: 0.285843\n",
    "\n",
    "2a 0.01\n",
    "Training complete in 58m 24s\n",
    "Best val Acc: 0.391122\n",
    "\n",
    "2a 0.1\n",
    "Training complete in 60m 11s\n",
    "Best val Acc: 0.370126\n",
    "\n",
    "2a 1\n",
    "Training complete in 59m 21s\n",
    "Best val Acc: 0.332933"
   ]
  },
  {
   "cell_type": "markdown",
   "metadata": {
    "id": "UY7xXJTnJ7Tj"
   },
   "source": [
    "In terms of final accuracy, training loss and training time - **Finetuning the base model** using **uniform learning rate of 0.01** for all layers is the best approach.\n",
    "\n",
    "This could be because the features extracted by pretrained resnet50 may not be suitable for this dataset. Hence, retraining the complete model from scratch produces better results. Uniform learning rate of 0.01 performs better than 0.1 which is too high and 0.001 which is too low in this problem."
   ]
  },
  {
   "cell_type": "markdown",
   "metadata": {
    "id": "RliWJl5HUZtF"
   },
   "source": [
    "### Problem 2"
   ]
  },
  {
   "cell_type": "code",
   "execution_count": null,
   "metadata": {
    "id": "y7KpHgQiTUeO"
   },
   "outputs": [],
   "source": [
    "# 2.1"
   ]
  },
  {
   "cell_type": "markdown",
   "metadata": {
    "id": "dwmbwR56t86n"
   },
   "source": [
    "Semi-supervised learning is a type of machine learning that sits between supervised and unsupervised learning. It refers to a learning problem (and algorithms designed for the learning problem) that involves a small portion of labeled examples and a large number of unlabeled examples from which a model must learn and make predictions on new examples.\n",
    "\n",
    "Weak supervision is a branch of machine learning where noisy, limited, or imprecise sources are used to provide supervision signal for labeling large amounts of training data in a supervised learning setting. Inexpensive weak labels are employed with the understanding that they are imperfect, but can nonetheless be used to create a strong predictive model.\n",
    "\n",
    "Both the approaches use the same 1B images for different pretraining as weakly-supervised pretraining uses hashtag as the label-signal, but in semi-supervised pretraining we don’t rely only on hashtag alone, but use a teacher model to label the examples."
   ]
  },
  {
   "cell_type": "code",
   "execution_count": null,
   "metadata": {
    "id": "flwwxweHvqBw"
   },
   "outputs": [],
   "source": [
    "# 2.2"
   ]
  },
  {
   "cell_type": "markdown",
   "metadata": {
    "id": "jQmE0_s-O2VN"
   },
   "source": [
    "a) The model trained on large-scale hashtag data is unexpectedly robust to label noise. The features learned allow a simple linear classifier to achieve state-of-the-art ImageNet-1k top-1 accuracy of 83.6% without any finetuning (compared to 84.2% with finetuning). To study the effect of hashtag label noise on model accuracy, they investigate the effect\n",
    "of injecting additional label noise on the accuracy of their networks. To do so, they pretrained ResNeXt-101 32×16d networks on a version of IG-1B-17k in which they randomly replaced p% of the hashtags by hashtags obtained by sampling from the marginal distribution over hashtags (excluding the tag to be replaced).\n",
    "\n",
    "**Results:**\n",
    "\n",
    "They observe that the noise level of p = 10% leads to a loss of less than 1% in classification accuracy, and at p = 25% label noise, the reduction in accuracy is around 2%. These results suggest that label noise may be a limited issue if networks are trained on a billion images."
   ]
  },
  {
   "cell_type": "markdown",
   "metadata": {
    "id": "Qd3LAFrjUS46"
   },
   "source": [
    "b) Hashtags are governed by a Zipfian distribution. Resampling of hashtag distribution is important during pretraining for transfer learning because prior studies in language modeling found that resampling Zipfian distributions reduces the impact of the head of the word distribution on the overall training loss. For example, in the 17k hash-tag vocabulary, the most frequent hashtag (#fineart) appears more than 1 million times as often as the least frequent hashtag (#shirtfront). Training on the natural distribution may not be optimal. Therefore the authors consider two alternative ways to sample: uniform and square root. \n",
    "\n",
    "The results show that resampling of the hashtag distribution is important in order to obtain good transfer to ImageNet image-classification tasks: using uniform or square-root sampling leads to an accuracy improvement of 5 to 6% irrespective of the number of ImageNet classes in the transfer task."
   ]
  },
  {
   "cell_type": "code",
   "execution_count": null,
   "metadata": {
    "id": "MZKS89k8SpZv"
   },
   "outputs": [],
   "source": [
    "# 2.3"
   ]
  },
  {
   "cell_type": "markdown",
   "metadata": {
    "id": "AggKR5hVWZ1-"
   },
   "source": [
    "a) The authors first train on the labeled data to get an initial teacher model. For each class/label, they use the predictions of this teacher model to rank the unlabeled images and pick top-K images to construct a new training data. They use this data to train a student model, which typically is smaller than the teacher model. Finally, pre-trained student model is fine-tuned on the initial labeled data to circumvent potential labeling errors.\n",
    "\n",
    "Distillation was originally introduced to compress a large\n",
    "model, called the teacher, into a smaller one. The\n",
    "distillation procedure amounts to training the small model\n",
    "(the student) such that it reproduces at best the output of\n",
    "the teacher. The student model is typically smaller and\n",
    "faster than the teacher model. Distillation can be seen as\n",
    "a particular case of self-training, in that the teacher model\n",
    "makes prediction on unlabelled data, and the inferred labels\n",
    "are used to train the student in a supervised fashion. In this way, the authors mimic the distillation process to do teacher-student modeling."
   ]
  },
  {
   "cell_type": "markdown",
   "metadata": {
    "id": "NtlaVbKdXgnd"
   },
   "source": [
    "b) P = number of relevant classes occuring in each image predicted by the teacher model. For each image, the authors take the P highest confidence classes to be included for the next step.\n",
    "\n",
    "Then, for each class , the authors rank the images based on the\n",
    "corresponding classification scores. K is the parameter describing the number of top image candidates for each class.\n",
    "\n",
    "The reason for choosing P > 1 is that it is diﬀicult to identify accurately under-represented concepts, or some may be occulted by more prominent co-occurring concepts. Hence, the wanted to include atleast 2 classes for the next step."
   ]
  },
  {
   "cell_type": "markdown",
   "metadata": {
    "id": "L_pUph5YZfy4"
   },
   "source": [
    "c) A teacher model is trained on labeled data. It is then run on unlabeled data and relevant examples for each label are selected to construct a\n",
    "new labeled dataset. This new labeled dataset is used to train a student model.\n",
    "\n",
    "Since P(number of relevant classes occuring in each image predicted by the teacher model) > 1, an image in this new dataset can belong to more than one class."
   ]
  },
  {
   "cell_type": "markdown",
   "metadata": {
    "id": "LG0YYQYmaTLb"
   },
   "source": [
    "d) The performance first improves as they increase the value of K to 8k due to increase in diversity as well as hardness of examples.\n",
    "\n",
    "It remains stable in a broad 4k-32k regime indicating that a coarse sweep to find the optimal value is sufficient. \n",
    "\n",
    "Accuracy drops on increasing K further as it introduces a lot of labeling noise in the training data."
   ]
  },
  {
   "cell_type": "markdown",
   "metadata": {
    "id": "fHrmaYrtUM7q"
   },
   "source": [
    "### Problem 3"
   ]
  },
  {
   "cell_type": "code",
   "execution_count": null,
   "metadata": {
    "id": "YZwOv_5Che33"
   },
   "outputs": [],
   "source": [
    "# 3.1"
   ]
  },
  {
   "cell_type": "markdown",
   "metadata": {
    "id": "g1hsLFwIhfkp"
   },
   "source": [
    "Achieving peak FLOPs from hardware devices like GPUs is a difficult propostion in real systems because it usually requires customized libraries developed by organizations with intimate knowledge of the underlying hardware, e.g., Intel’s MKL (int, 2009). Even these specially tuned libraries may fall short of peak execution. Further, any computation done outside the scope of PALEO (e.g. job scheduling) will exacerbate the observed inefficiency in practice. \n",
    "\n",
    "Platform percent of peak (PPP) parameter helps to capture the average relative inefficiency of the platform compared to peak FLOPS. Rather than trying to measure and capture every source of inefficiency in every learning framework, we take a small number of representative deep learning workloads which contain convolutions, pooling, dropout, and fully connected layers and run them for a short time on a single GPU. Given observed total throughput and estimated total throughput on this benchmark we fit a scaling constant\n",
    "to estimate PPP."
   ]
  },
  {
   "cell_type": "code",
   "execution_count": null,
   "metadata": {
    "id": "6G-7ceXNi194"
   },
   "outputs": [],
   "source": [
    "# 3.2"
   ]
  },
  {
   "cell_type": "markdown",
   "metadata": {
    "id": "7xITDIO33DLl"
   },
   "source": [
    "Getting model summary to know vgg19 layers:"
   ]
  },
  {
   "cell_type": "code",
   "execution_count": null,
   "metadata": {
    "colab": {
     "base_uri": "https://localhost:8080/"
    },
    "id": "LAdNqdDqo37y",
    "outputId": "2ec22da1-39f7-45a6-f1af-f545f1a03695"
   },
   "outputs": [
    {
     "name": "stdout",
     "output_type": "stream",
     "text": [
      "Downloading data from https://storage.googleapis.com/tensorflow/keras-applications/vgg19/vgg19_weights_tf_dim_ordering_tf_kernels.h5\n",
      "574710816/574710816 [==============================] - 3s 0us/step\n",
      "Model: \"vgg19\"\n",
      "_________________________________________________________________\n",
      " Layer (type)                Output Shape              Param #   \n",
      "=================================================================\n",
      " input_3 (InputLayer)        [(None, 224, 224, 3)]     0         \n",
      "                                                                 \n",
      " block1_conv1 (Conv2D)       (None, 224, 224, 64)      1792      \n",
      "                                                                 \n",
      " block1_conv2 (Conv2D)       (None, 224, 224, 64)      36928     \n",
      "                                                                 \n",
      " block1_pool (MaxPooling2D)  (None, 112, 112, 64)      0         \n",
      "                                                                 \n",
      " block2_conv1 (Conv2D)       (None, 112, 112, 128)     73856     \n",
      "                                                                 \n",
      " block2_conv2 (Conv2D)       (None, 112, 112, 128)     147584    \n",
      "                                                                 \n",
      " block2_pool (MaxPooling2D)  (None, 56, 56, 128)       0         \n",
      "                                                                 \n",
      " block3_conv1 (Conv2D)       (None, 56, 56, 256)       295168    \n",
      "                                                                 \n",
      " block3_conv2 (Conv2D)       (None, 56, 56, 256)       590080    \n",
      "                                                                 \n",
      " block3_conv3 (Conv2D)       (None, 56, 56, 256)       590080    \n",
      "                                                                 \n",
      " block3_conv4 (Conv2D)       (None, 56, 56, 256)       590080    \n",
      "                                                                 \n",
      " block3_pool (MaxPooling2D)  (None, 28, 28, 256)       0         \n",
      "                                                                 \n",
      " block4_conv1 (Conv2D)       (None, 28, 28, 512)       1180160   \n",
      "                                                                 \n",
      " block4_conv2 (Conv2D)       (None, 28, 28, 512)       2359808   \n",
      "                                                                 \n",
      " block4_conv3 (Conv2D)       (None, 28, 28, 512)       2359808   \n",
      "                                                                 \n",
      " block4_conv4 (Conv2D)       (None, 28, 28, 512)       2359808   \n",
      "                                                                 \n",
      " block4_pool (MaxPooling2D)  (None, 14, 14, 512)       0         \n",
      "                                                                 \n",
      " block5_conv1 (Conv2D)       (None, 14, 14, 512)       2359808   \n",
      "                                                                 \n",
      " block5_conv2 (Conv2D)       (None, 14, 14, 512)       2359808   \n",
      "                                                                 \n",
      " block5_conv3 (Conv2D)       (None, 14, 14, 512)       2359808   \n",
      "                                                                 \n",
      " block5_conv4 (Conv2D)       (None, 14, 14, 512)       2359808   \n",
      "                                                                 \n",
      " block5_pool (MaxPooling2D)  (None, 7, 7, 512)         0         \n",
      "                                                                 \n",
      " flatten (Flatten)           (None, 25088)             0         \n",
      "                                                                 \n",
      " fc1 (Dense)                 (None, 4096)              102764544 \n",
      "                                                                 \n",
      " fc2 (Dense)                 (None, 4096)              16781312  \n",
      "                                                                 \n",
      " predictions (Dense)         (None, 1000)              4097000   \n",
      "                                                                 \n",
      "=================================================================\n",
      "Total params: 143,667,240\n",
      "Trainable params: 143,667,240\n",
      "Non-trainable params: 0\n",
      "_________________________________________________________________\n"
     ]
    }
   ],
   "source": [
    "from keras.applications.vgg19 import VGG19\n",
    "\n",
    "model = VGG19(input_shape=(224,224,3))\n",
    "model.summary()"
   ]
  },
  {
   "cell_type": "markdown",
   "metadata": {
    "id": "eF1AVNDi3K8r"
   },
   "source": [
    "## **Flops formulae:**\n",
    "\n",
    "**FLOPs in convolution layer= 2 ∗ (H_in * W_in * C_in) * K ^ 2)* C_out**\n",
    "\n",
    "where (H_in * W_in * C_in) is Input shape\n",
    "\n",
    "K^2 is Kernel size\n",
    "\n",
    "C_out is no. of channels in Output shape\n",
    "\n",
    "---------------\n",
    "**FLOPs in Pooling Layers = H_in * W_in * C_in***\n",
    "\n",
    "---------------\n",
    "\n",
    "**FLOPs in Fully connected layer = 2 * (H_in * W_in * C_in) * (H_out * W_out * C_out)**\n",
    "\n"
   ]
  },
  {
   "cell_type": "markdown",
   "metadata": {
    "id": "-Vm2TQgfOEwO"
   },
   "source": [
    "On solving, here are the outputs:"
   ]
  },
  {
   "cell_type": "markdown",
   "metadata": {
    "id": "cxaPv_RPvXuB"
   },
   "source": [
    "               Layer Name |      Input Shape |     Output Shape |      Kernel Size |          Filters | Stride |  FLOPS\n",
    "                  input_1 |    [224, 224, 3] |    [224, 224, 3] |           [0, 0] |           [0, 0] | [1, 1] | 0.0000\n",
    "             block1_conv1 |    [224, 224, 3] |   [224, 224, 64] |           (3, 3) |               64 | (1, 1) | 173408256.0000\n",
    "             block1_conv2 |   [224, 224, 64] |   [224, 224, 64] |           (3, 3) |               64 | (1, 1) | 3699376128.0000\n",
    "              block1_pool |   [224, 224, 64] |     ['', '', ''] |           (2, 2) |           [0, 0] | (2, 2) | 3211264.0000\n",
    "             block2_conv1 |   [112, 112, 64] |  [112, 112, 128] |           (3, 3) |              128 | (1, 1) | 1849688064.0000\n",
    "             block2_conv2 |  [112, 112, 128] |  [112, 112, 128] |           (3, 3) |              128 | (1, 1) | 3699376128.0000\n",
    "              block2_pool |  [112, 112, 128] |     ['', '', ''] |           (2, 2) |           [0, 0] | (2, 2) | 1605632.0000\n",
    "             block3_conv1 |    [56, 56, 128] |    [56, 56, 256] |           (3, 3) |              256 | (1, 1) | 1849688064.0000\n",
    "             block3_conv2 |    [56, 56, 256] |    [56, 56, 256] |           (3, 3) |              256 | (1, 1) | 3699376128.0000\n",
    "             block3_conv3 |    [56, 56, 256] |    [56, 56, 256] |           (3, 3) |              256 | (1, 1) | 3699376128.0000\n",
    "             block3_conv4 |    [56, 56, 256] |    [56, 56, 256] |           (3, 3) |              256 | (1, 1) | 3699376128.0000\n",
    "              block3_pool |    [56, 56, 256] |     ['', '', ''] |           (2, 2) |           [0, 0] | (2, 2) | 802816.0000\n",
    "             block4_conv1 |    [28, 28, 256] |    [28, 28, 512] |           (3, 3) |              512 | (1, 1) | 1849688064.0000\n",
    "             block4_conv2 |    [28, 28, 512] |    [28, 28, 512] |           (3, 3) |              512 | (1, 1) | 3699376128.0000\n",
    "             block4_conv3 |    [28, 28, 512] |    [28, 28, 512] |           (3, 3) |              512 | (1, 1) | 3699376128.0000\n",
    "             block4_conv4 |    [28, 28, 512] |    [28, 28, 512] |           (3, 3) |              512 | (1, 1) | 3699376128.0000\n",
    "              block4_pool |    [28, 28, 512] |     ['', '', ''] |           (2, 2) |           [0, 0] | (2, 2) | 401408.0000\n",
    "             block5_conv1 |    [14, 14, 512] |    [14, 14, 512] |           (3, 3) |              512 | (1, 1) | 924844032.0000\n",
    "             block5_conv2 |    [14, 14, 512] |    [14, 14, 512] |           (3, 3) |              512 | (1, 1) | 924844032.0000\n",
    "             block5_conv3 |    [14, 14, 512] |    [14, 14, 512] |           (3, 3) |              512 | (1, 1) | 924844032.0000\n",
    "             block5_conv4 |    [14, 14, 512] |    [14, 14, 512] |           (3, 3) |              512 | (1, 1) | 924844032.0000\n",
    "              block5_pool |    [14, 14, 512] |     ['', '', ''] |           (2, 2) |           [0, 0] | (2, 2) | 100352.0000\n",
    "                  flatten |      [7, 7, 512] |            25088 |           [0, 0] |           [0, 0] | [1, 1] | 0.0000\n",
    "                      fc1 |            25088 |           [4096] |           [0, 0] |           [0, 0] | [1, 1] | 205520896.0000\n",
    "                      fc2 |             4096 |           [4096] |           [0, 0] |           [0, 0] | [1, 1] | 33554432.0000\n",
    "         (predictions)fc3 |             4096 |           [1000] |           [0, 0] |           [0, 0] | [1, 1] | 8192000.0000"
   ]
  },
  {
   "cell_type": "markdown",
   "metadata": {
    "id": "5EO5g9aHwWLb"
   },
   "source": [
    "Total FLOPS = 39270246400.0 = 39270.24640000 x 10^6"
   ]
  },
  {
   "cell_type": "markdown",
   "metadata": {
    "id": "P4WHS86dOJQv"
   },
   "source": [
    "Therefore, fraction of the total FLOPs attributed by convolution layers = 39016857600/39270246400  = 0.99354 or 99.35%."
   ]
  },
  {
   "cell_type": "code",
   "execution_count": null,
   "metadata": {
    "id": "akOZ0cs8xIw7"
   },
   "outputs": [],
   "source": [
    "# 3.3"
   ]
  },
  {
   "cell_type": "markdown",
   "metadata": {
    "id": "NqTjsFAtxKXC"
   },
   "source": [
    "The measured time and sum of layerwise timings for forward pass did not match on GPUs because CUDA supports asynchronous programming. Before time measurement, an API(cudaDeviceSynchronize) has to be called to make sure that all cores have finished their tasks. This explicit synchronization is the overhead of measuring time on the GPUs. Therefore, the sum of layerwise timing on GPUs is longer than a full forward pass.\n",
    "\n",
    "Sec. 5 of the paper to mitigate the measurement overhead in GPUs: To benchmark a matrix multiplication, the authors kept GPUs iteratively running the matrix multiplication in a way that GPU cores can continuously perform multiply-add operations without synchronization, before recording the end time. Then, the measurement overhead is amortized over all the iterations, giving accurate timing estimates. When the number of iterations is large enough, the overhead is negligible. In their experiments, the authors measure the timing of a large number of computing iterations on a matrix multiplication and use the averaged value of each iteration as the compute time of the matrix multiplication."
   ]
  },
  {
   "cell_type": "code",
   "execution_count": null,
   "metadata": {
    "id": "dYfa1Aa0xJgU"
   },
   "outputs": [],
   "source": [
    "# 3.4"
   ]
  },
  {
   "cell_type": "markdown",
   "metadata": {
    "id": "B892KpN9yWEF"
   },
   "source": [
    "**Flops**: \n",
    "\n",
    "VGG16 -> 15503M\n",
    "\n",
    "Googlenet -> 1606M\n",
    "\n",
    "Resnet50 -> 3922M"
   ]
  },
  {
   "cell_type": "markdown",
   "metadata": {
    "id": "1rN9qZ7v4lJA"
   },
   "source": [
    "**Forward pass double-precision floating point performance (board):**"
   ]
  },
  {
   "cell_type": "markdown",
   "metadata": {
    "id": "vw5IKhbRyguY"
   },
   "source": [
    "\n",
    "**Inference time:**\n",
    "\n",
    "VGG16 ->  15503 * 10**−6/ 1.87 = 0.008s \n",
    "\n",
    "Googlenet -> 1606 * 10**−6/ 1.87 = 0.00086s \n",
    "\n",
    "Resnet50 -> 3922 * 10**−6/ 1.87 = 0.0021s"
   ]
  },
  {
   "cell_type": "markdown",
   "metadata": {
    "id": "yYaeTLtrzC19"
   },
   "source": [
    "**Peak throughput:**\n",
    "\n",
    "VGG16 -> 1/0.008 = 125 images/s \n",
    "\n",
    "Googlenet -> 1/0.00086 = 1163 images/s \n",
    "\n",
    "Resnet50 -> 1/0.0021 = 476 images/s\n"
   ]
  },
  {
   "cell_type": "markdown",
   "metadata": {
    "id": "uJwb3z-y42jT"
   },
   "source": [
    "**Forward pass single-precision floating point performance (board):**"
   ]
  },
  {
   "cell_type": "markdown",
   "metadata": {
    "id": "gveDaVi5z2ge"
   },
   "source": [
    "**Inference time**:\n",
    "\n",
    "VGG16 -> 15503 * 10**−6/ 5.6 = 0.0027s \n",
    "\n",
    "Googlenet ->  1606 * 10**−6/ 5.6 = 0.00029s \n",
    "\n",
    "Resnet50 -> 3922 * 10**−6/ 5.6 = 0.0007s"
   ]
  },
  {
   "cell_type": "markdown",
   "metadata": {
    "id": "xnngDePCz-X3"
   },
   "source": [
    "**Peak throughput:**\n",
    "\n",
    "VGG16 ->  1/0.0027 = 370.37 images/s \n",
    "\n",
    "Googlenet -> 1/0.00029 = 3448.28 images/s \n",
    "\n",
    "Resnet50 -> 1/0.0007 = 1428.6 images/s"
   ]
  },
  {
   "cell_type": "markdown",
   "metadata": {
    "id": "E28tg-neFrR6"
   },
   "source": [
    "###Problem 4"
   ]
  },
  {
   "cell_type": "code",
   "execution_count": null,
   "metadata": {
    "id": "aXIhZkdHRv9o"
   },
   "outputs": [],
   "source": [
    "# 4.1"
   ]
  },
  {
   "cell_type": "markdown",
   "metadata": {
    "id": "R9IonANDRypT"
   },
   "source": [
    "15 models run on GCP by Ayushi Sharma, Peter Davis, Ria Gupta, Ashutosh Sameer. Logs and output files attached."
   ]
  },
  {
   "cell_type": "code",
   "execution_count": null,
   "metadata": {
    "id": "2dbPXkqPKB-1"
   },
   "outputs": [],
   "source": [
    "q4_runs_data = \"/content/gdrive/My Drive/q4_pdl_data/pdl-q4\""
   ]
  },
  {
   "cell_type": "code",
   "execution_count": null,
   "metadata": {
    "id": "TkjBzjDxKbbZ"
   },
   "outputs": [],
   "source": [
    "# outlier removal\n",
    "'''From the paper: For better model fitting, we carry out outlier removal as follows: if a loss data point does not fall within a certain \n",
    "range of its neighbours (e.g., between the minimum loss in subsequent 5 epochs and the maximum loss in previous 5 epochs), we consider the \n",
    "data point as an outlier, and use the average value of its neighbours to replace this point when doing model fitting. We also normalize the\n",
    "loss values, by dividing each raw value by the maximum loss value collected so far (typically the first loss value).'''\n",
    "\n",
    "def remove_outliers(loss_list):\n",
    "    norm_loss_list, prev_max_loss = [], loss_list[0]\n",
    "    for idx, loss in enumerate(loss_list):\n",
    "        min_idx = max(idx - 5, 0)\n",
    "        max_idx = min(idx + 5, len(loss_list) - 1)\n",
    "        neighbours = []\n",
    "        max_neighbour = loss\n",
    "        min_neighbour = loss\n",
    "        dr_for_avg = 0\n",
    "        nr_for_avg = 0\n",
    "        \n",
    "        for tmp_idx in range(min_idx, max_idx + 1):\n",
    "            if tmp_idx == idx:\n",
    "                continue\n",
    "            nr_for_avg += loss_list[tmp_idx]\n",
    "            dr_for_avg += 1\n",
    "            if loss_list[tmp_idx] < min_neighbour:\n",
    "                min_neighbour = loss_list[tmp_idx]\n",
    "            if loss_list[tmp_idx] > max_neighbour:\n",
    "                max_neighbour = loss_list[tmp_idx]\n",
    "        \n",
    "        if loss > min_neighbour and loss < max_neighbour:\n",
    "            new_loss = loss\n",
    "        else:\n",
    "            new_loss = nr_for_avg * 1.0 / dr_for_avg\n",
    "        \n",
    "        if new_loss > prev_max_loss:\n",
    "            prev_max_loss = new_loss\n",
    "            \n",
    "        norm_loss_list.append(new_loss * 1.0/ prev_max_loss)\n",
    "    return norm_loss_list"
   ]
  },
  {
   "cell_type": "code",
   "execution_count": null,
   "metadata": {
    "id": "L5l-vjieSiVY"
   },
   "outputs": [],
   "source": [
    "def get_beta(k, b0, b1, b2):\n",
    "    return (1.0/ (k*b0 + b1)) + b2\n",
    "\n",
    "def get_epochs(loss, b0, b1, b2):\n",
    "    return (((1.0 / (loss - b2))  - b1) * 1.0 / b0)"
   ]
  },
  {
   "cell_type": "code",
   "execution_count": null,
   "metadata": {
    "id": "EsjJKXnPNMe6"
   },
   "outputs": [],
   "source": [
    "models = ['resnet18', 'resnet20', 'resnet32', 'resnet44', 'resnet56']\n",
    "gpus = ['K80', 'V100', 'P100']\n",
    "file_names = [(x, y) for x in models for y in gpus]\n",
    "beta_list = []\n",
    "\n",
    "for model, gpu in file_names:\n",
    "    file = model + \"_\" + gpu + \".csv\"\n",
    "    file_path = q4_runs_data+\"/\"+gpu+\"/\"+file\n",
    "    model_hist_df = pd.read_csv(file_path)\n",
    "    model_hist_df.columns = ['epoch', 'loss', 'acc', 'time']\n",
    "    model_hist_df['loss'] = remove_outliers(model_hist_df['loss'].tolist())\n",
    "    model_hist_df['epoch'] = model_hist_df['epoch'] / 350.0\n",
    "    \n",
    "    popt, pcov = curve_fit(get_beta, model_hist_df['epoch'], model_hist_df['loss'])\n",
    "\n",
    "    layers = model[-2:]\n",
    "    beta_list.append([layers, gpu, popt[0], popt[1], popt[2]])"
   ]
  },
  {
   "cell_type": "code",
   "execution_count": null,
   "metadata": {
    "id": "OWAWkeG5NrSc"
   },
   "outputs": [],
   "source": [
    "beta_df = pd.DataFrame(beta_list, columns = ['layers', 'gpu', 'b0', 'b1', 'b2'])"
   ]
  },
  {
   "cell_type": "code",
   "execution_count": null,
   "metadata": {
    "colab": {
     "base_uri": "https://localhost:8080/",
     "height": 223
    },
    "id": "azetlMlJ5eL5",
    "outputId": "5013fbc6-71dd-4b62-c9b2-43342e16a80d"
   },
   "outputs": [
    {
     "name": "stdout",
     "output_type": "stream",
     "text": [
      " (β0, β1, β2) for K80:\n"
     ]
    },
    {
     "data": {
      "text/html": [
       "\n",
       "  <div id=\"df-1ff7b7c9-cfae-42d1-8be0-cdb9e487c2d3\">\n",
       "    <div class=\"colab-df-container\">\n",
       "      <div>\n",
       "<style scoped>\n",
       "    .dataframe tbody tr th:only-of-type {\n",
       "        vertical-align: middle;\n",
       "    }\n",
       "\n",
       "    .dataframe tbody tr th {\n",
       "        vertical-align: top;\n",
       "    }\n",
       "\n",
       "    .dataframe thead th {\n",
       "        text-align: right;\n",
       "    }\n",
       "</style>\n",
       "<table border=\"1\" class=\"dataframe\">\n",
       "  <thead>\n",
       "    <tr style=\"text-align: right;\">\n",
       "      <th></th>\n",
       "      <th>layers</th>\n",
       "      <th>gpu</th>\n",
       "      <th>b0</th>\n",
       "      <th>b1</th>\n",
       "      <th>b2</th>\n",
       "    </tr>\n",
       "  </thead>\n",
       "  <tbody>\n",
       "    <tr>\n",
       "      <th>0</th>\n",
       "      <td>18</td>\n",
       "      <td>K80</td>\n",
       "      <td>65.006491</td>\n",
       "      <td>1.557065</td>\n",
       "      <td>-0.030773</td>\n",
       "    </tr>\n",
       "    <tr>\n",
       "      <th>3</th>\n",
       "      <td>20</td>\n",
       "      <td>K80</td>\n",
       "      <td>1.408045</td>\n",
       "      <td>1.014911</td>\n",
       "      <td>-0.243009</td>\n",
       "    </tr>\n",
       "    <tr>\n",
       "      <th>6</th>\n",
       "      <td>32</td>\n",
       "      <td>K80</td>\n",
       "      <td>0.904105</td>\n",
       "      <td>0.796651</td>\n",
       "      <td>-0.587309</td>\n",
       "    </tr>\n",
       "    <tr>\n",
       "      <th>9</th>\n",
       "      <td>44</td>\n",
       "      <td>K80</td>\n",
       "      <td>1.532558</td>\n",
       "      <td>0.848139</td>\n",
       "      <td>-0.450469</td>\n",
       "    </tr>\n",
       "    <tr>\n",
       "      <th>12</th>\n",
       "      <td>56</td>\n",
       "      <td>K80</td>\n",
       "      <td>1.645923</td>\n",
       "      <td>0.857889</td>\n",
       "      <td>-0.425212</td>\n",
       "    </tr>\n",
       "  </tbody>\n",
       "</table>\n",
       "</div>\n",
       "      <button class=\"colab-df-convert\" onclick=\"convertToInteractive('df-1ff7b7c9-cfae-42d1-8be0-cdb9e487c2d3')\"\n",
       "              title=\"Convert this dataframe to an interactive table.\"\n",
       "              style=\"display:none;\">\n",
       "        \n",
       "  <svg xmlns=\"http://www.w3.org/2000/svg\" height=\"24px\"viewBox=\"0 0 24 24\"\n",
       "       width=\"24px\">\n",
       "    <path d=\"M0 0h24v24H0V0z\" fill=\"none\"/>\n",
       "    <path d=\"M18.56 5.44l.94 2.06.94-2.06 2.06-.94-2.06-.94-.94-2.06-.94 2.06-2.06.94zm-11 1L8.5 8.5l.94-2.06 2.06-.94-2.06-.94L8.5 2.5l-.94 2.06-2.06.94zm10 10l.94 2.06.94-2.06 2.06-.94-2.06-.94-.94-2.06-.94 2.06-2.06.94z\"/><path d=\"M17.41 7.96l-1.37-1.37c-.4-.4-.92-.59-1.43-.59-.52 0-1.04.2-1.43.59L10.3 9.45l-7.72 7.72c-.78.78-.78 2.05 0 2.83L4 21.41c.39.39.9.59 1.41.59.51 0 1.02-.2 1.41-.59l7.78-7.78 2.81-2.81c.8-.78.8-2.07 0-2.86zM5.41 20L4 18.59l7.72-7.72 1.47 1.35L5.41 20z\"/>\n",
       "  </svg>\n",
       "      </button>\n",
       "      \n",
       "  <style>\n",
       "    .colab-df-container {\n",
       "      display:flex;\n",
       "      flex-wrap:wrap;\n",
       "      gap: 12px;\n",
       "    }\n",
       "\n",
       "    .colab-df-convert {\n",
       "      background-color: #E8F0FE;\n",
       "      border: none;\n",
       "      border-radius: 50%;\n",
       "      cursor: pointer;\n",
       "      display: none;\n",
       "      fill: #1967D2;\n",
       "      height: 32px;\n",
       "      padding: 0 0 0 0;\n",
       "      width: 32px;\n",
       "    }\n",
       "\n",
       "    .colab-df-convert:hover {\n",
       "      background-color: #E2EBFA;\n",
       "      box-shadow: 0px 1px 2px rgba(60, 64, 67, 0.3), 0px 1px 3px 1px rgba(60, 64, 67, 0.15);\n",
       "      fill: #174EA6;\n",
       "    }\n",
       "\n",
       "    [theme=dark] .colab-df-convert {\n",
       "      background-color: #3B4455;\n",
       "      fill: #D2E3FC;\n",
       "    }\n",
       "\n",
       "    [theme=dark] .colab-df-convert:hover {\n",
       "      background-color: #434B5C;\n",
       "      box-shadow: 0px 1px 3px 1px rgba(0, 0, 0, 0.15);\n",
       "      filter: drop-shadow(0px 1px 2px rgba(0, 0, 0, 0.3));\n",
       "      fill: #FFFFFF;\n",
       "    }\n",
       "  </style>\n",
       "\n",
       "      <script>\n",
       "        const buttonEl =\n",
       "          document.querySelector('#df-1ff7b7c9-cfae-42d1-8be0-cdb9e487c2d3 button.colab-df-convert');\n",
       "        buttonEl.style.display =\n",
       "          google.colab.kernel.accessAllowed ? 'block' : 'none';\n",
       "\n",
       "        async function convertToInteractive(key) {\n",
       "          const element = document.querySelector('#df-1ff7b7c9-cfae-42d1-8be0-cdb9e487c2d3');\n",
       "          const dataTable =\n",
       "            await google.colab.kernel.invokeFunction('convertToInteractive',\n",
       "                                                     [key], {});\n",
       "          if (!dataTable) return;\n",
       "\n",
       "          const docLinkHtml = 'Like what you see? Visit the ' +\n",
       "            '<a target=\"_blank\" href=https://colab.research.google.com/notebooks/data_table.ipynb>data table notebook</a>'\n",
       "            + ' to learn more about interactive tables.';\n",
       "          element.innerHTML = '';\n",
       "          dataTable['output_type'] = 'display_data';\n",
       "          await google.colab.output.renderOutput(dataTable, element);\n",
       "          const docLink = document.createElement('div');\n",
       "          docLink.innerHTML = docLinkHtml;\n",
       "          element.appendChild(docLink);\n",
       "        }\n",
       "      </script>\n",
       "    </div>\n",
       "  </div>\n",
       "  "
      ],
      "text/plain": [
       "   layers  gpu         b0        b1        b2\n",
       "0      18  K80  65.006491  1.557065 -0.030773\n",
       "3      20  K80   1.408045  1.014911 -0.243009\n",
       "6      32  K80   0.904105  0.796651 -0.587309\n",
       "9      44  K80   1.532558  0.848139 -0.450469\n",
       "12     56  K80   1.645923  0.857889 -0.425212"
      ]
     },
     "execution_count": 8,
     "metadata": {},
     "output_type": "execute_result"
    }
   ],
   "source": [
    "print(\" (β0, β1, β2) for K80:\")\n",
    "beta_df[beta_df['gpu'] == 'K80'].sort_values(by=['layers'])"
   ]
  },
  {
   "cell_type": "code",
   "execution_count": null,
   "metadata": {
    "colab": {
     "base_uri": "https://localhost:8080/",
     "height": 223
    },
    "id": "GP0gzd8b6Xmq",
    "outputId": "42c79e3c-3910-40a3-e084-2d07b3f8acdf"
   },
   "outputs": [
    {
     "name": "stdout",
     "output_type": "stream",
     "text": [
      " (β0, β1, β2) for V100:\n"
     ]
    },
    {
     "data": {
      "text/html": [
       "\n",
       "  <div id=\"df-06f324a3-259f-4982-bbe8-512ac0b1b902\">\n",
       "    <div class=\"colab-df-container\">\n",
       "      <div>\n",
       "<style scoped>\n",
       "    .dataframe tbody tr th:only-of-type {\n",
       "        vertical-align: middle;\n",
       "    }\n",
       "\n",
       "    .dataframe tbody tr th {\n",
       "        vertical-align: top;\n",
       "    }\n",
       "\n",
       "    .dataframe thead th {\n",
       "        text-align: right;\n",
       "    }\n",
       "</style>\n",
       "<table border=\"1\" class=\"dataframe\">\n",
       "  <thead>\n",
       "    <tr style=\"text-align: right;\">\n",
       "      <th></th>\n",
       "      <th>layers</th>\n",
       "      <th>gpu</th>\n",
       "      <th>b0</th>\n",
       "      <th>b1</th>\n",
       "      <th>b2</th>\n",
       "    </tr>\n",
       "  </thead>\n",
       "  <tbody>\n",
       "    <tr>\n",
       "      <th>1</th>\n",
       "      <td>18</td>\n",
       "      <td>V100</td>\n",
       "      <td>3.351033</td>\n",
       "      <td>1.383752</td>\n",
       "      <td>-0.057551</td>\n",
       "    </tr>\n",
       "    <tr>\n",
       "      <th>4</th>\n",
       "      <td>20</td>\n",
       "      <td>V100</td>\n",
       "      <td>1.563486</td>\n",
       "      <td>1.015027</td>\n",
       "      <td>-0.217002</td>\n",
       "    </tr>\n",
       "    <tr>\n",
       "      <th>7</th>\n",
       "      <td>32</td>\n",
       "      <td>V100</td>\n",
       "      <td>1.286499</td>\n",
       "      <td>0.921485</td>\n",
       "      <td>-0.455677</td>\n",
       "    </tr>\n",
       "    <tr>\n",
       "      <th>10</th>\n",
       "      <td>44</td>\n",
       "      <td>V100</td>\n",
       "      <td>1.142487</td>\n",
       "      <td>0.793518</td>\n",
       "      <td>-0.531955</td>\n",
       "    </tr>\n",
       "    <tr>\n",
       "      <th>13</th>\n",
       "      <td>56</td>\n",
       "      <td>V100</td>\n",
       "      <td>1.726945</td>\n",
       "      <td>0.898947</td>\n",
       "      <td>-0.403234</td>\n",
       "    </tr>\n",
       "  </tbody>\n",
       "</table>\n",
       "</div>\n",
       "      <button class=\"colab-df-convert\" onclick=\"convertToInteractive('df-06f324a3-259f-4982-bbe8-512ac0b1b902')\"\n",
       "              title=\"Convert this dataframe to an interactive table.\"\n",
       "              style=\"display:none;\">\n",
       "        \n",
       "  <svg xmlns=\"http://www.w3.org/2000/svg\" height=\"24px\"viewBox=\"0 0 24 24\"\n",
       "       width=\"24px\">\n",
       "    <path d=\"M0 0h24v24H0V0z\" fill=\"none\"/>\n",
       "    <path d=\"M18.56 5.44l.94 2.06.94-2.06 2.06-.94-2.06-.94-.94-2.06-.94 2.06-2.06.94zm-11 1L8.5 8.5l.94-2.06 2.06-.94-2.06-.94L8.5 2.5l-.94 2.06-2.06.94zm10 10l.94 2.06.94-2.06 2.06-.94-2.06-.94-.94-2.06-.94 2.06-2.06.94z\"/><path d=\"M17.41 7.96l-1.37-1.37c-.4-.4-.92-.59-1.43-.59-.52 0-1.04.2-1.43.59L10.3 9.45l-7.72 7.72c-.78.78-.78 2.05 0 2.83L4 21.41c.39.39.9.59 1.41.59.51 0 1.02-.2 1.41-.59l7.78-7.78 2.81-2.81c.8-.78.8-2.07 0-2.86zM5.41 20L4 18.59l7.72-7.72 1.47 1.35L5.41 20z\"/>\n",
       "  </svg>\n",
       "      </button>\n",
       "      \n",
       "  <style>\n",
       "    .colab-df-container {\n",
       "      display:flex;\n",
       "      flex-wrap:wrap;\n",
       "      gap: 12px;\n",
       "    }\n",
       "\n",
       "    .colab-df-convert {\n",
       "      background-color: #E8F0FE;\n",
       "      border: none;\n",
       "      border-radius: 50%;\n",
       "      cursor: pointer;\n",
       "      display: none;\n",
       "      fill: #1967D2;\n",
       "      height: 32px;\n",
       "      padding: 0 0 0 0;\n",
       "      width: 32px;\n",
       "    }\n",
       "\n",
       "    .colab-df-convert:hover {\n",
       "      background-color: #E2EBFA;\n",
       "      box-shadow: 0px 1px 2px rgba(60, 64, 67, 0.3), 0px 1px 3px 1px rgba(60, 64, 67, 0.15);\n",
       "      fill: #174EA6;\n",
       "    }\n",
       "\n",
       "    [theme=dark] .colab-df-convert {\n",
       "      background-color: #3B4455;\n",
       "      fill: #D2E3FC;\n",
       "    }\n",
       "\n",
       "    [theme=dark] .colab-df-convert:hover {\n",
       "      background-color: #434B5C;\n",
       "      box-shadow: 0px 1px 3px 1px rgba(0, 0, 0, 0.15);\n",
       "      filter: drop-shadow(0px 1px 2px rgba(0, 0, 0, 0.3));\n",
       "      fill: #FFFFFF;\n",
       "    }\n",
       "  </style>\n",
       "\n",
       "      <script>\n",
       "        const buttonEl =\n",
       "          document.querySelector('#df-06f324a3-259f-4982-bbe8-512ac0b1b902 button.colab-df-convert');\n",
       "        buttonEl.style.display =\n",
       "          google.colab.kernel.accessAllowed ? 'block' : 'none';\n",
       "\n",
       "        async function convertToInteractive(key) {\n",
       "          const element = document.querySelector('#df-06f324a3-259f-4982-bbe8-512ac0b1b902');\n",
       "          const dataTable =\n",
       "            await google.colab.kernel.invokeFunction('convertToInteractive',\n",
       "                                                     [key], {});\n",
       "          if (!dataTable) return;\n",
       "\n",
       "          const docLinkHtml = 'Like what you see? Visit the ' +\n",
       "            '<a target=\"_blank\" href=https://colab.research.google.com/notebooks/data_table.ipynb>data table notebook</a>'\n",
       "            + ' to learn more about interactive tables.';\n",
       "          element.innerHTML = '';\n",
       "          dataTable['output_type'] = 'display_data';\n",
       "          await google.colab.output.renderOutput(dataTable, element);\n",
       "          const docLink = document.createElement('div');\n",
       "          docLink.innerHTML = docLinkHtml;\n",
       "          element.appendChild(docLink);\n",
       "        }\n",
       "      </script>\n",
       "    </div>\n",
       "  </div>\n",
       "  "
      ],
      "text/plain": [
       "   layers   gpu        b0        b1        b2\n",
       "1      18  V100  3.351033  1.383752 -0.057551\n",
       "4      20  V100  1.563486  1.015027 -0.217002\n",
       "7      32  V100  1.286499  0.921485 -0.455677\n",
       "10     44  V100  1.142487  0.793518 -0.531955\n",
       "13     56  V100  1.726945  0.898947 -0.403234"
      ]
     },
     "execution_count": 9,
     "metadata": {},
     "output_type": "execute_result"
    }
   ],
   "source": [
    "print(\" (β0, β1, β2) for V100:\")\n",
    "beta_df[beta_df['gpu'] == 'V100'].sort_values(by=['layers'])"
   ]
  },
  {
   "cell_type": "code",
   "execution_count": null,
   "metadata": {
    "colab": {
     "base_uri": "https://localhost:8080/",
     "height": 223
    },
    "id": "Rkd7vR-96aJX",
    "outputId": "731a0fdc-2b5f-4404-8825-0fa63a157afc"
   },
   "outputs": [
    {
     "name": "stdout",
     "output_type": "stream",
     "text": [
      " (β0, β1, β2) for P100:\n"
     ]
    },
    {
     "data": {
      "text/html": [
       "\n",
       "  <div id=\"df-3c7cd89c-f65b-446d-aeeb-a5263fae6a3f\">\n",
       "    <div class=\"colab-df-container\">\n",
       "      <div>\n",
       "<style scoped>\n",
       "    .dataframe tbody tr th:only-of-type {\n",
       "        vertical-align: middle;\n",
       "    }\n",
       "\n",
       "    .dataframe tbody tr th {\n",
       "        vertical-align: top;\n",
       "    }\n",
       "\n",
       "    .dataframe thead th {\n",
       "        text-align: right;\n",
       "    }\n",
       "</style>\n",
       "<table border=\"1\" class=\"dataframe\">\n",
       "  <thead>\n",
       "    <tr style=\"text-align: right;\">\n",
       "      <th></th>\n",
       "      <th>layers</th>\n",
       "      <th>gpu</th>\n",
       "      <th>b0</th>\n",
       "      <th>b1</th>\n",
       "      <th>b2</th>\n",
       "    </tr>\n",
       "  </thead>\n",
       "  <tbody>\n",
       "    <tr>\n",
       "      <th>2</th>\n",
       "      <td>18</td>\n",
       "      <td>P100</td>\n",
       "      <td>1.847649</td>\n",
       "      <td>1.101220</td>\n",
       "      <td>-0.182117</td>\n",
       "    </tr>\n",
       "    <tr>\n",
       "      <th>5</th>\n",
       "      <td>20</td>\n",
       "      <td>P100</td>\n",
       "      <td>1.272407</td>\n",
       "      <td>0.978101</td>\n",
       "      <td>-0.298647</td>\n",
       "    </tr>\n",
       "    <tr>\n",
       "      <th>8</th>\n",
       "      <td>32</td>\n",
       "      <td>P100</td>\n",
       "      <td>0.607718</td>\n",
       "      <td>0.680788</td>\n",
       "      <td>-0.755619</td>\n",
       "    </tr>\n",
       "    <tr>\n",
       "      <th>11</th>\n",
       "      <td>44</td>\n",
       "      <td>P100</td>\n",
       "      <td>1.362453</td>\n",
       "      <td>0.836773</td>\n",
       "      <td>-0.481315</td>\n",
       "    </tr>\n",
       "    <tr>\n",
       "      <th>14</th>\n",
       "      <td>56</td>\n",
       "      <td>P100</td>\n",
       "      <td>1.621734</td>\n",
       "      <td>0.887262</td>\n",
       "      <td>-0.414416</td>\n",
       "    </tr>\n",
       "  </tbody>\n",
       "</table>\n",
       "</div>\n",
       "      <button class=\"colab-df-convert\" onclick=\"convertToInteractive('df-3c7cd89c-f65b-446d-aeeb-a5263fae6a3f')\"\n",
       "              title=\"Convert this dataframe to an interactive table.\"\n",
       "              style=\"display:none;\">\n",
       "        \n",
       "  <svg xmlns=\"http://www.w3.org/2000/svg\" height=\"24px\"viewBox=\"0 0 24 24\"\n",
       "       width=\"24px\">\n",
       "    <path d=\"M0 0h24v24H0V0z\" fill=\"none\"/>\n",
       "    <path d=\"M18.56 5.44l.94 2.06.94-2.06 2.06-.94-2.06-.94-.94-2.06-.94 2.06-2.06.94zm-11 1L8.5 8.5l.94-2.06 2.06-.94-2.06-.94L8.5 2.5l-.94 2.06-2.06.94zm10 10l.94 2.06.94-2.06 2.06-.94-2.06-.94-.94-2.06-.94 2.06-2.06.94z\"/><path d=\"M17.41 7.96l-1.37-1.37c-.4-.4-.92-.59-1.43-.59-.52 0-1.04.2-1.43.59L10.3 9.45l-7.72 7.72c-.78.78-.78 2.05 0 2.83L4 21.41c.39.39.9.59 1.41.59.51 0 1.02-.2 1.41-.59l7.78-7.78 2.81-2.81c.8-.78.8-2.07 0-2.86zM5.41 20L4 18.59l7.72-7.72 1.47 1.35L5.41 20z\"/>\n",
       "  </svg>\n",
       "      </button>\n",
       "      \n",
       "  <style>\n",
       "    .colab-df-container {\n",
       "      display:flex;\n",
       "      flex-wrap:wrap;\n",
       "      gap: 12px;\n",
       "    }\n",
       "\n",
       "    .colab-df-convert {\n",
       "      background-color: #E8F0FE;\n",
       "      border: none;\n",
       "      border-radius: 50%;\n",
       "      cursor: pointer;\n",
       "      display: none;\n",
       "      fill: #1967D2;\n",
       "      height: 32px;\n",
       "      padding: 0 0 0 0;\n",
       "      width: 32px;\n",
       "    }\n",
       "\n",
       "    .colab-df-convert:hover {\n",
       "      background-color: #E2EBFA;\n",
       "      box-shadow: 0px 1px 2px rgba(60, 64, 67, 0.3), 0px 1px 3px 1px rgba(60, 64, 67, 0.15);\n",
       "      fill: #174EA6;\n",
       "    }\n",
       "\n",
       "    [theme=dark] .colab-df-convert {\n",
       "      background-color: #3B4455;\n",
       "      fill: #D2E3FC;\n",
       "    }\n",
       "\n",
       "    [theme=dark] .colab-df-convert:hover {\n",
       "      background-color: #434B5C;\n",
       "      box-shadow: 0px 1px 3px 1px rgba(0, 0, 0, 0.15);\n",
       "      filter: drop-shadow(0px 1px 2px rgba(0, 0, 0, 0.3));\n",
       "      fill: #FFFFFF;\n",
       "    }\n",
       "  </style>\n",
       "\n",
       "      <script>\n",
       "        const buttonEl =\n",
       "          document.querySelector('#df-3c7cd89c-f65b-446d-aeeb-a5263fae6a3f button.colab-df-convert');\n",
       "        buttonEl.style.display =\n",
       "          google.colab.kernel.accessAllowed ? 'block' : 'none';\n",
       "\n",
       "        async function convertToInteractive(key) {\n",
       "          const element = document.querySelector('#df-3c7cd89c-f65b-446d-aeeb-a5263fae6a3f');\n",
       "          const dataTable =\n",
       "            await google.colab.kernel.invokeFunction('convertToInteractive',\n",
       "                                                     [key], {});\n",
       "          if (!dataTable) return;\n",
       "\n",
       "          const docLinkHtml = 'Like what you see? Visit the ' +\n",
       "            '<a target=\"_blank\" href=https://colab.research.google.com/notebooks/data_table.ipynb>data table notebook</a>'\n",
       "            + ' to learn more about interactive tables.';\n",
       "          element.innerHTML = '';\n",
       "          dataTable['output_type'] = 'display_data';\n",
       "          await google.colab.output.renderOutput(dataTable, element);\n",
       "          const docLink = document.createElement('div');\n",
       "          docLink.innerHTML = docLinkHtml;\n",
       "          element.appendChild(docLink);\n",
       "        }\n",
       "      </script>\n",
       "    </div>\n",
       "  </div>\n",
       "  "
      ],
      "text/plain": [
       "   layers   gpu        b0        b1        b2\n",
       "2      18  P100  1.847649  1.101220 -0.182117\n",
       "5      20  P100  1.272407  0.978101 -0.298647\n",
       "8      32  P100  0.607718  0.680788 -0.755619\n",
       "11     44  P100  1.362453  0.836773 -0.481315\n",
       "14     56  P100  1.621734  0.887262 -0.414416"
      ]
     },
     "execution_count": 10,
     "metadata": {},
     "output_type": "execute_result"
    }
   ],
   "source": [
    "print(\" (β0, β1, β2) for P100:\")\n",
    "beta_df[beta_df['gpu'] == 'P100'].sort_values(by=['layers'])"
   ]
  },
  {
   "cell_type": "code",
   "execution_count": null,
   "metadata": {
    "id": "TXsHieooOsFF"
   },
   "outputs": [],
   "source": [
    "# 4.2"
   ]
  },
  {
   "cell_type": "code",
   "execution_count": null,
   "metadata": {
    "id": "4QBN9eBT-Kk5"
   },
   "outputs": [],
   "source": [
    "le = LabelEncoder()\n",
    "le.fit(beta_df['gpu'])\n",
    "beta_df['gpu'] = le.transform(beta_df['gpu'])"
   ]
  },
  {
   "cell_type": "code",
   "execution_count": null,
   "metadata": {
    "colab": {
     "base_uri": "https://localhost:8080/"
    },
    "id": "Tbw0jVV7FB6f",
    "outputId": "42fcabd4-2293-4211-b1c2-ba3d84688ae5"
   },
   "outputs": [
    {
     "data": {
      "text/plain": [
       "RandomForestRegressor(max_depth=2, random_state=42)"
      ]
     },
     "execution_count": 13,
     "metadata": {},
     "output_type": "execute_result"
    }
   ],
   "source": [
    "X = beta_df[['layers', 'gpu']].values\n",
    "y = beta_df[['b0', 'b1', 'b2']].values\n",
    "rf_clf = RandomForestRegressor(max_depth=2, random_state=42)\n",
    "\n",
    "rf_clf.fit(X, y)"
   ]
  },
  {
   "cell_type": "code",
   "execution_count": null,
   "metadata": {
    "colab": {
     "base_uri": "https://localhost:8080/",
     "height": 313
    },
    "id": "IMYnosOWRyHp",
    "outputId": "21894f85-c5ea-4900-f777-ddc949d0bba4"
   },
   "outputs": [
    {
     "name": "stdout",
     "output_type": "stream",
     "text": [
      "Predicted epoch: 235, Actual epoch:190\n"
     ]
    },
    {
     "data": {
      "image/png": "[encoded data removed]",
      "text/plain": [
       "<Figure size 432x288 with 1 Axes>"
      ]
     },
     "metadata": {
      "needs_background": "light"
     },
     "output_type": "display_data"
    }
   ],
   "source": [
    "q4b_runs_data = \"/content/gdrive/My Drive/pdl-q4/q4-2-resnet50\"\n",
    "model = \"resnet50\"\n",
    "\n",
    "gpu = 'K80'\n",
    "file = model + \"_\" + gpu + \".csv\"\n",
    "file_path = q4b_runs_data+\"/\"+file\n",
    "model_hist_df = pd.read_csv(file_path)\n",
    "model_hist_df.columns = ['epoch', 'loss', 'acc', 'time']\n",
    "model_hist_df['loss'] = remove_outliers(model_hist_df['loss'].tolist())\n",
    "model_hist_df['epoch'] = model_hist_df['epoch'] / 350.0\n",
    "\n",
    "if sum(model_hist_df.acc > 0.92) > 0:\n",
    "    actual_epochs = model_hist_df.loc[np.where(model_hist_df.acc > 0.92)[0][0], 'epoch']\n",
    "    actual_loss = model_hist_df.loc[np.where(model_hist_df.acc > 0.92)[0][0], 'loss']\n",
    "else:\n",
    "    actual_epochs = model_hist_df.iloc[-1]['epoch']\n",
    "    actual_loss = model_hist_df.iloc[-1]['loss']\n",
    "\n",
    "pred_X = np.array([50, le.transform([gpu])[0]]).reshape(1,-1)\n",
    "beta_list = rf_clf.predict(pred_X)\n",
    "b0, b1, b2 = beta_list[0][0], beta_list[0][1], beta_list[0][2]\n",
    "\n",
    "predicted_epochs = get_epochs(actual_loss, b0, b1, b2)\n",
    "                              \n",
    "error = ((predicted_epochs - actual_epochs) / actual_epochs) * 100\n",
    "\n",
    "print(f\"Predicted epoch: {round(predicted_epochs * 350)}, Actual epoch:{round(actual_epochs * 350)}\")\n",
    "\n",
    "plt.plot(model_hist_df['loss'], label = \"actual_loss\")\n",
    "plt.plot(f(model_hist_df['epoch'], b0, b1, b2), 'r-', label='predicted_loss')\n",
    "plt.title(\"resnet50_\" + gpu + \", Percentage Error: {}\".format(error))\n",
    "plt.xlabel('epoch_num')\n",
    "plt.ylabel('loss')\n",
    "plt.legend()\n",
    "plt.show()\n",
    "plt.close()  "
   ]
  },
  {
   "cell_type": "code",
   "execution_count": null,
   "metadata": {
    "id": "Ek8ZCa8VPU6J"
   },
   "outputs": [],
   "source": [
    "# 4.3"
   ]
  },
  {
   "cell_type": "code",
   "execution_count": null,
   "metadata": {
    "id": "tX3hqttwA301"
   },
   "outputs": [],
   "source": [
    "pred_epochs = 235\n",
    "M = 128\n",
    "theta0 = 1.02\n",
    "theta1 = 2.78\n",
    "theta2 = 4.92\n",
    "theta3 = 0\n",
    "theta4 = 0.02\n",
    "\n",
    "def time_taken(p, w):\n",
    "  return 1 / (theta0 * M/w + theta1 + theta2 * w/p + theta3*w + theta4*p)\n",
    "  # w * 1/(theta0 + theta1 * (w/p) + theta2*w + theta3*p)"
   ]
  },
  {
   "cell_type": "code",
   "execution_count": null,
   "metadata": {
    "colab": {
     "base_uri": "https://localhost:8080/",
     "height": 279
    },
    "id": "yg919cGPCot9",
    "outputId": "f7d7cd3d-63d5-4c02-aa13-abd721f78b9b"
   },
   "outputs": [
    {
     "data": {
      "image/png": "[encoded data removed]",
      "text/plain": [
       "<Figure size 432x288 with 1 Axes>"
      ]
     },
     "metadata": {
      "needs_background": "light"
     },
     "output_type": "display_data"
    }
   ],
   "source": [
    "for p in [2, 4]:\n",
    "    steps_per_second = [time_taken(p,w) for w in range(1, 20)]  \n",
    "    \n",
    "    time = [pred_epochs * 1/s for s in steps_per_second]\n",
    "    plt.plot(time, label = f\"# of servers:{p}\")\n",
    "\n",
    "plt.ylabel(\"Time taken for 92% acc (in sec)\")\n",
    "plt.xlabel(\"# of workers\")\n",
    "plt.legend()\n",
    "plt.show()"
   ]
  }
 ],
 "metadata": {
  "accelerator": "GPU",
  "colab": {
   "provenance": []
  },
  "gpuClass": "standard",
  "kernelspec": {
   "display_name": "Python 3 (ipykernel)",
   "language": "python",
   "name": "python3"
  },
  "language_info": {
   "codemirror_mode": {
    "name": "ipython",
    "version": 3
   },
   "file_extension": ".py",
   "mimetype": "text/x-python",
   "name": "python",
   "nbconvert_exporter": "python",
   "pygments_lexer": "ipython3",
   "version": "3.9.7"
  }
 },
 "nbformat": 4,
 "nbformat_minor": 1
}
